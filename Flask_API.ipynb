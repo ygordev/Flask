{
  "cells": [
    {
      "cell_type": "markdown",
      "metadata": {
        "id": "aWt8Bae6qpaU"
      },
      "source": [
        ""
      ]
    },
    {
      "cell_type": "markdown",
      "metadata": {
        "id": "7fk1BY8aKbLJ"
      },
      "source": [
        "**Flask API - Code Snippets**\n",
        "<br>por Ygor Moreira Lima @colt7r\n",
        "\n",
        "---\n",
        "\n",
        "Exemplo de Estrutura de Arquivos<br>\n",
        "<u>PROJETO</u><br>\n",
        "static/<br>\n",
        "----------- arquivo.css<br>\n",
        "----------- arquivo.js<br>\n",
        "templates/<br>\n",
        "----------- index.html<br>\n",
        "app.py<br>\n",
        "\n",
        "\n"
      ]
    },
    {
      "cell_type": "markdown",
      "metadata": {
        "id": "IQZ3R1DGqxJR"
      },
      "source": [
        "# **Criação de uma API RESTful**\n",
        "**Características da Arquitetura REST (Representational State Transfer)**\n",
        "- <u>Cliente-Servidor</u>: Deve haver uma separação entre <strong>cliente e servidor</strong>\n",
        "- <u>Sem estado</u>: O servidor não pode armazenar informações fornecidas pelo cliente e usá-las em outras solicitações.\n",
        "- <u>Permite cache</u>: O servidor deve indicar ao cliente se as solicitações podem ser armazenadas em cache ou não\n",
        "- <u>Sistema em camadas</u>: Os intermediários respondem às solicitações\n",
        "- <u>Interface Uniforme</u>: O método de comunicação entre cliente e servidor deve ser uniforme\n",
        "- <u>Código sob demanda</u>: Os servidores podem fornecer código executável. Esta restrição é opcional.<br><br>\n",
        "\n",
        "**Características das URL no Flask**<br>\n",
        "http://[RAIZ]/[SERVIÇO]/[TIPO]/[VERSÃO]/[AÇÃO]/[ID]\n",
        "\n",
        "<u>Exemplo</u>: http://127.0.0.1:5000/jogos/api/v1/listar<br>\n",
        "\n",
        "**Tipos de Requisições REST**<br>\n",
        "O padrão REST aceita estes tipos de requisições:<br>\n",
        "\n",
        "---\n",
        "\n",
        "<strong>Método</strong>: GET<br>\n",
        "<strong>URL</strong>: jogos/api/v1/lista<br>\n",
        "<strong>Ação</strong>: Retorna todos os dados<br><br>\n",
        "\n",
        "\n",
        "---\n",
        "\n",
        "\n",
        "<strong>Método</strong>: GET<br>\n",
        "<strong>URL</strong>: jogos/api/v1/lista/1<br>\n",
        "<strong>Ação</strong>: Retorna apenasw os dados da ID enviada<br><br>\n",
        "\n",
        "---\n",
        "\n",
        "<strong>Método</strong>: POST<br>\n",
        "<strong>URL</strong>: jogos/api/v1/lista<br>\n",
        "<strong>Ação</strong>: Insere um novo dado<br><br>\n",
        "\n",
        "---\n",
        "\n",
        "<strong>Método</strong>: PUT<br>\n",
        "<strong>URL</strong>: jogos/api/v1/lista/1<br>\n",
        "<strong>Ação</strong>: Atualiza os dados da ID enviada<br><br>\n",
        "\n",
        "---\n",
        "\n",
        "<strong>Método</strong>: DELETE<br>\n",
        "<strong>URL</strong>: jogos/api/v1/lista/1<br>\n",
        "<strong>Ação</strong>: Remove os dados da ID enviada<br>\n",
        "\n"
      ]
    },
    {
      "cell_type": "code",
      "execution_count": null,
      "metadata": {
        "colab": {
          "base_uri": "https://localhost:8080/"
        },
        "id": "aRrHi_sL1vWq",
        "outputId": "b2e8f9ee-9243-482a-9840-bf3c117bf75b"
      },
      "outputs": [
        {
          "output_type": "stream",
          "name": "stdout",
          "text": [
            "Requirement already satisfied: flask in /usr/local/lib/python3.7/dist-packages (1.1.4)\n",
            "Requirement already satisfied: itsdangerous<2.0,>=0.24 in /usr/local/lib/python3.7/dist-packages (from flask) (1.1.0)\n",
            "Requirement already satisfied: Werkzeug<2.0,>=0.15 in /usr/local/lib/python3.7/dist-packages (from flask) (1.0.1)\n",
            "Requirement already satisfied: click<8.0,>=5.1 in /usr/local/lib/python3.7/dist-packages (from flask) (7.1.2)\n",
            "Requirement already satisfied: Jinja2<3.0,>=2.10.1 in /usr/local/lib/python3.7/dist-packages (from flask) (2.11.3)\n",
            "Requirement already satisfied: MarkupSafe>=0.23 in /usr/local/lib/python3.7/dist-packages (from Jinja2<3.0,>=2.10.1->flask) (2.0.1)\n",
            "Collecting flask_ngrok\n",
            "  Downloading flask_ngrok-0.0.25-py3-none-any.whl (3.1 kB)\n",
            "Requirement already satisfied: requests in /usr/local/lib/python3.7/dist-packages (from flask_ngrok) (2.23.0)\n",
            "Requirement already satisfied: Flask>=0.8 in /usr/local/lib/python3.7/dist-packages (from flask_ngrok) (1.1.4)\n",
            "Requirement already satisfied: Jinja2<3.0,>=2.10.1 in /usr/local/lib/python3.7/dist-packages (from Flask>=0.8->flask_ngrok) (2.11.3)\n",
            "Requirement already satisfied: click<8.0,>=5.1 in /usr/local/lib/python3.7/dist-packages (from Flask>=0.8->flask_ngrok) (7.1.2)\n",
            "Requirement already satisfied: Werkzeug<2.0,>=0.15 in /usr/local/lib/python3.7/dist-packages (from Flask>=0.8->flask_ngrok) (1.0.1)\n",
            "Requirement already satisfied: itsdangerous<2.0,>=0.24 in /usr/local/lib/python3.7/dist-packages (from Flask>=0.8->flask_ngrok) (1.1.0)\n",
            "Requirement already satisfied: MarkupSafe>=0.23 in /usr/local/lib/python3.7/dist-packages (from Jinja2<3.0,>=2.10.1->Flask>=0.8->flask_ngrok) (2.0.1)\n",
            "Requirement already satisfied: idna<3,>=2.5 in /usr/local/lib/python3.7/dist-packages (from requests->flask_ngrok) (2.10)\n",
            "Requirement already satisfied: chardet<4,>=3.0.2 in /usr/local/lib/python3.7/dist-packages (from requests->flask_ngrok) (3.0.4)\n",
            "Requirement already satisfied: certifi>=2017.4.17 in /usr/local/lib/python3.7/dist-packages (from requests->flask_ngrok) (2021.10.8)\n",
            "Requirement already satisfied: urllib3!=1.25.0,!=1.25.1,<1.26,>=1.21.1 in /usr/local/lib/python3.7/dist-packages (from requests->flask_ngrok) (1.24.3)\n",
            "Installing collected packages: flask-ngrok\n",
            "Successfully installed flask-ngrok-0.0.25\n",
            "Collecting dataset\n",
            "  Downloading dataset-1.5.2-py2.py3-none-any.whl (18 kB)\n",
            "Collecting banal>=1.0.1\n",
            "  Downloading banal-1.0.6-py2.py3-none-any.whl (6.1 kB)\n",
            "Collecting alembic>=0.6.2\n",
            "  Downloading alembic-1.7.6-py3-none-any.whl (210 kB)\n",
            "\u001b[K     |████████████████████████████████| 210 kB 5.4 MB/s \n",
            "\u001b[?25hRequirement already satisfied: sqlalchemy>=1.3.2 in /usr/local/lib/python3.7/dist-packages (from dataset) (1.4.31)\n",
            "Requirement already satisfied: importlib-metadata in /usr/local/lib/python3.7/dist-packages (from alembic>=0.6.2->dataset) (4.11.1)\n",
            "Collecting Mako\n",
            "  Downloading Mako-1.1.6-py2.py3-none-any.whl (75 kB)\n",
            "\u001b[K     |████████████████████████████████| 75 kB 3.8 MB/s \n",
            "\u001b[?25hRequirement already satisfied: importlib-resources in /usr/local/lib/python3.7/dist-packages (from alembic>=0.6.2->dataset) (5.4.0)\n",
            "Requirement already satisfied: greenlet!=0.4.17 in /usr/local/lib/python3.7/dist-packages (from sqlalchemy>=1.3.2->dataset) (1.1.2)\n",
            "Requirement already satisfied: typing-extensions>=3.6.4 in /usr/local/lib/python3.7/dist-packages (from importlib-metadata->alembic>=0.6.2->dataset) (3.10.0.2)\n",
            "Requirement already satisfied: zipp>=0.5 in /usr/local/lib/python3.7/dist-packages (from importlib-metadata->alembic>=0.6.2->dataset) (3.7.0)\n",
            "Requirement already satisfied: MarkupSafe>=0.9.2 in /usr/local/lib/python3.7/dist-packages (from Mako->alembic>=0.6.2->dataset) (2.0.1)\n",
            "Installing collected packages: Mako, banal, alembic, dataset\n",
            "Successfully installed Mako-1.1.6 alembic-1.7.6 banal-1.0.6 dataset-1.5.2\n"
          ]
        }
      ],
      "source": [
        "!pip install flask\n",
        "!pip install flask_ngrok\n",
        "!pip install dataset"
      ]
    },
    {
      "cell_type": "code",
      "execution_count": null,
      "metadata": {
        "colab": {
          "base_uri": "https://localhost:8080/"
        },
        "id": "t4WbxvFQqwdg",
        "outputId": "d0087ad6-8f6b-47b4-e0c6-f716d67bf3c0"
      },
      "outputs": [
        {
          "output_type": "stream",
          "name": "stdout",
          "text": [
            " * Serving Flask app \"__main__\" (lazy loading)\n",
            " * Environment: production\n",
            "\u001b[31m   WARNING: This is a development server. Do not use it in a production deployment.\u001b[0m\n",
            "\u001b[2m   Use a production WSGI server instead.\u001b[0m\n",
            " * Debug mode: off\n"
          ]
        },
        {
          "output_type": "stream",
          "name": "stderr",
          "text": [
            " * Running on http://127.0.0.1:5000/ (Press CTRL+C to quit)\n"
          ]
        },
        {
          "output_type": "stream",
          "name": "stdout",
          "text": [
            " * Running on http://d4ba-34-73-213-107.ngrok.io\n",
            " * Traffic stats available on http://127.0.0.1:4040\n"
          ]
        },
        {
          "output_type": "stream",
          "name": "stderr",
          "text": [
            "127.0.0.1 - - [01/Mar/2022 06:57:17] \"\u001b[37mGET / HTTP/1.1\u001b[0m\" 200 -\n",
            "127.0.0.1 - - [01/Mar/2022 06:57:18] \"\u001b[33mGET /favicon.ico HTTP/1.1\u001b[0m\" 404 -\n"
          ]
        }
      ],
      "source": [
        "from flask import Flask, jsonify, url_for\n",
        "from flask_ngrok import run_with_ngrok\n",
        "import dataset\n",
        "\n",
        "app = Flask(__name__)\n",
        "run_with_ngrok(app) \n",
        "\n",
        "jogos = [\n",
        "         {   \n",
        "          \"id\": 1,\n",
        "          \"plataforma\": \"PS4\",\n",
        "          \"nome\": \"GTA V\",\n",
        "          \"preco\": 129.90,\n",
        "          \"imagem_url\": \"http://s.glbimg.com/po/tt/f/original/2013/04/02/gta5-capa-rockstar_.jpg\"\n",
        "          },\n",
        "         {   \n",
        "          \"id\": 2,\n",
        "          \"plataforma\": \"PS4\",\n",
        "          \"nome\": \"Call of Duty: Modern Warfare II\",\n",
        "          \"preco\": 229.90,\n",
        "          \"imagem_url\": \"https://i0.wp.com/www.thegameflix.com/wp-content/uploads/2020/05/codmw2remastered.jpg\"\n",
        "          },\n",
        "         {   \n",
        "          \"id\": 3,\n",
        "          \"plataforma\": \"PS4\",\n",
        "          \"nome\": \"Call of Duty: WW2\",\n",
        "          \"preco\": 289.90,\n",
        "          \"imagem_url\": \"https://images-americanas.b2w.io/produtos/01/00/item/132649/7/132649709_1GG.jpg\"\n",
        "          },\n",
        "         ]\n",
        "\n",
        "lista_usuarios = [\n",
        "            {\"id\": 1, \"nome\": \"João\", \"saldo\": 3600.00, \"compras_recentes\": [jogos[0], jogos[1]]},\n",
        "            {\"id\": 2, \"nome\": \"Paulo\", \"saldo\": 600.00, \"compras_recentes\": []},\n",
        "            {\"id\": 3, \"nome\": \"Francisco\", \"saldo\": 18000.00, \"compras_recentes\": []},\n",
        "]\n",
        "\n",
        "@app.route(\"/\")\n",
        "def home():\n",
        "  html = \"\"\"\n",
        "  <html><body><h1>Bem-vindo ao GameMarket API</h1><br><a href=\"{}\">Acessar API - Listar</a>\n",
        "  \"\"\".format(url_for('lista_jogos'))\n",
        "  return html, 200\n",
        "\n",
        "@app.route(\"/jogos/api/v1/lista\", methods=['GET'])\n",
        "@app.route('/jogos/api/v1/lista/<int:id>', methods=['GET'])\n",
        "def lista_jogos(id=None):\n",
        "  if id!=None:\n",
        "    return jsonify({'lista': jogos[id-1]})\n",
        "  else:\n",
        "    return jsonify({'lista': jogos, 'usuarios': lista_usuarios}), 200\n",
        "\n",
        "app.run()"
      ]
    }
  ],
  "metadata": {
    "colab": {
      "name": "Flask - API.ipynb",
      "provenance": []
    },
    "kernelspec": {
      "display_name": "Python 3",
      "name": "python3"
    },
    "language_info": {
      "name": "python"
    }
  },
  "nbformat": 4,
  "nbformat_minor": 0
}