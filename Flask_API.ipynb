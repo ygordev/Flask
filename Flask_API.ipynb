{
  "nbformat": 4,
  "nbformat_minor": 0,
  "metadata": {
    "colab": {
      "name": "Flask-API.ipynb",
      "provenance": [],
      "authorship_tag": "ABX9TyOHxP6irW7CnBRHJ3ZVCatM",
      "include_colab_link": true
    },
    "kernelspec": {
      "display_name": "Python 3",
      "name": "python3"
    },
    "language_info": {
      "name": "python"
    }
  },
  "cells": [
    {
      "cell_type": "markdown",
      "metadata": {
        "id": "view-in-github",
        "colab_type": "text"
      },
      "source": [
        "<a href=\"https://colab.research.google.com/github/ygordev/Python/blob/main/Flask_API.ipynb\" target=\"_parent\"><img src=\"https://colab.research.google.com/assets/colab-badge.svg\" alt=\"Open In Colab\"/></a>"
      ]
    },
    {
      "cell_type": "markdown",
      "metadata": {
        "id": "aWt8Bae6qpaU"
      },
      "source": [
        ""
      ]
    },
    {
      "cell_type": "markdown",
      "metadata": {
        "id": "7fk1BY8aKbLJ"
      },
      "source": [
        "**Flask API - Code Snippets**\n",
        "<br>por Ygor Moreira Lima @colt7r\n",
        "\n",
        "---\n",
        "\n",
        "Exemplo de Estrutura de Arquivos<br>\n",
        "<u>PROJETO</u><br>\n",
        "static/<br>\n",
        "----------- arquivo.css<br>\n",
        "----------- arquivo.js<br>\n",
        "templates/<br>\n",
        "----------- index.html<br>\n",
        "app.py<br>\n",
        "\n",
        "\n"
      ]
    },
    {
      "cell_type": "markdown",
      "metadata": {
        "id": "l2uCFIHux_ud"
      },
      "source": [
        "**Implementar:**\n",
        "- Salvar e recuperar lista de jogos pelo banco de dados\n",
        "- Implementar funções da API\n",
        "- Implementar uso de token de acesso"
      ]
    },
    {
      "cell_type": "markdown",
      "metadata": {
        "id": "IQZ3R1DGqxJR"
      },
      "source": [
        "# **Criação de uma API RESTful**\n",
        "**Características da Arquitetura REST (Representational State Transfer)**\n",
        "- <u>Cliente-Servidor</u>: Deve haver uma separação entre <strong>cliente e servidor</strong>\n",
        "- <u>Sem estado</u>: O servidor não pode armazenar informações fornecidas pelo cliente e usá-las em outras solicitações.\n",
        "- <u>Permite cache</u>: O servidor deve indicar ao cliente se as solicitações podem ser armazenadas em cache ou não\n",
        "- <u>Sistema em camadas</u>: Os intermediários respondem às solicitações\n",
        "- <u>Interface Uniforme</u>: O método de comunicação entre cliente e servidor deve ser uniforme\n",
        "- <u>Código sob demanda</u>: Os servidores podem fornecer código executável. Esta restrição é opcional.<br><br>\n",
        "\n",
        "**Características das URL no Flask**<br>\n",
        "http://[RAIZ]/[SERVIÇO]/[TIPO]/[VERSÃO]/[AÇÃO]/[ID]\n",
        "\n",
        "<u>Exemplo</u>: http://127.0.0.1:5000/jogos/api/v1/listar<br>\n",
        "\n",
        "**Tipos de Requisições REST**<br>\n",
        "O padrão REST aceita estes tipos de requisições:<br>\n",
        "\n",
        "---\n",
        "\n",
        "<strong>Método</strong>: GET<br>\n",
        "<strong>URL</strong>: jogos/api/v1/lista<br>\n",
        "<strong>Ação</strong>: Retorna todos os dados<br><br>\n",
        "\n",
        "\n",
        "---\n",
        "\n",
        "\n",
        "<strong>Método</strong>: GET<br>\n",
        "<strong>URL</strong>: jogos/api/v1/lista/1<br>\n",
        "<strong>Ação</strong>: Retorna apenasw os dados da ID enviada<br><br>\n",
        "\n",
        "---\n",
        "\n",
        "<strong>Método</strong>: POST<br>\n",
        "<strong>URL</strong>: jogos/api/v1/lista/add<br>\n",
        "<strong>Ação</strong>: Insere um novo dado<br><br>\n",
        "\n",
        "---\n",
        "\n",
        "<strong>Método</strong>: PUT<br>\n",
        "<strong>URL</strong>: jogos/api/v1/lista/alter/1<br>\n",
        "<strong>Ação</strong>: Atualiza os dados da ID enviada<br><br>\n",
        "\n",
        "---\n",
        "\n",
        "<strong>Método</strong>: DELETE<br>\n",
        "<strong>URL</strong>: jogos/api/v1/lista/del/1<br>\n",
        "<strong>Ação</strong>: Remove os dados da ID enviada<br>\n",
        "\n"
      ]
    },
    {
      "cell_type": "code",
      "metadata": {
        "colab": {
          "base_uri": "https://localhost:8080/"
        },
        "id": "aRrHi_sL1vWq",
        "outputId": "7137b5f9-0e67-4d53-fba8-e08532d0d332"
      },
      "source": [
        "!pip install flask\n",
        "!pip install flask_ngrok\n",
        "!pip install dataset"
      ],
      "execution_count": 1,
      "outputs": [
        {
          "output_type": "stream",
          "text": [
            "Requirement already satisfied: flask in /usr/local/lib/python3.7/dist-packages (1.1.4)\n",
            "Requirement already satisfied: click<8.0,>=5.1 in /usr/local/lib/python3.7/dist-packages (from flask) (7.1.2)\n",
            "Requirement already satisfied: itsdangerous<2.0,>=0.24 in /usr/local/lib/python3.7/dist-packages (from flask) (1.1.0)\n",
            "Requirement already satisfied: Jinja2<3.0,>=2.10.1 in /usr/local/lib/python3.7/dist-packages (from flask) (2.11.3)\n",
            "Requirement already satisfied: Werkzeug<2.0,>=0.15 in /usr/local/lib/python3.7/dist-packages (from flask) (1.0.1)\n",
            "Requirement already satisfied: MarkupSafe>=0.23 in /usr/local/lib/python3.7/dist-packages (from Jinja2<3.0,>=2.10.1->flask) (2.0.1)\n",
            "Collecting flask_ngrok\n",
            "  Downloading https://files.pythonhosted.org/packages/af/6c/f54cb686ad1129e27d125d182f90f52b32f284e6c8df58c1bae54fa1adbc/flask_ngrok-0.0.25-py3-none-any.whl\n",
            "Requirement already satisfied: Flask>=0.8 in /usr/local/lib/python3.7/dist-packages (from flask_ngrok) (1.1.4)\n",
            "Requirement already satisfied: requests in /usr/local/lib/python3.7/dist-packages (from flask_ngrok) (2.23.0)\n",
            "Requirement already satisfied: Jinja2<3.0,>=2.10.1 in /usr/local/lib/python3.7/dist-packages (from Flask>=0.8->flask_ngrok) (2.11.3)\n",
            "Requirement already satisfied: click<8.0,>=5.1 in /usr/local/lib/python3.7/dist-packages (from Flask>=0.8->flask_ngrok) (7.1.2)\n",
            "Requirement already satisfied: itsdangerous<2.0,>=0.24 in /usr/local/lib/python3.7/dist-packages (from Flask>=0.8->flask_ngrok) (1.1.0)\n",
            "Requirement already satisfied: Werkzeug<2.0,>=0.15 in /usr/local/lib/python3.7/dist-packages (from Flask>=0.8->flask_ngrok) (1.0.1)\n",
            "Requirement already satisfied: certifi>=2017.4.17 in /usr/local/lib/python3.7/dist-packages (from requests->flask_ngrok) (2021.5.30)\n",
            "Requirement already satisfied: chardet<4,>=3.0.2 in /usr/local/lib/python3.7/dist-packages (from requests->flask_ngrok) (3.0.4)\n",
            "Requirement already satisfied: urllib3!=1.25.0,!=1.25.1,<1.26,>=1.21.1 in /usr/local/lib/python3.7/dist-packages (from requests->flask_ngrok) (1.24.3)\n",
            "Requirement already satisfied: idna<3,>=2.5 in /usr/local/lib/python3.7/dist-packages (from requests->flask_ngrok) (2.10)\n",
            "Requirement already satisfied: MarkupSafe>=0.23 in /usr/local/lib/python3.7/dist-packages (from Jinja2<3.0,>=2.10.1->Flask>=0.8->flask_ngrok) (2.0.1)\n",
            "Installing collected packages: flask-ngrok\n",
            "Successfully installed flask-ngrok-0.0.25\n",
            "Collecting dataset\n",
            "  Downloading https://files.pythonhosted.org/packages/c7/8b/9487dc0fc18b0c3d917d57d7aac485a217c6df9399bfeccf60c5ada12dc3/dataset-1.5.0-py2.py3-none-any.whl\n",
            "Collecting alembic>=0.6.2\n",
            "\u001b[?25l  Downloading https://files.pythonhosted.org/packages/d5/80/ef186e599a57d0e4cb78fc76e0bfc2e6953fa9716b2a5cf2de0117ed8eb5/alembic-1.6.5-py2.py3-none-any.whl (164kB)\n",
            "\u001b[K     |████████████████████████████████| 174kB 30.6MB/s \n",
            "\u001b[?25hCollecting banal>=1.0.1\n",
            "  Downloading https://files.pythonhosted.org/packages/ae/c4/7f6e6a539cc6b2da4da3b6a58d5e6f9342c870522ee46d41f8cbd2156953/banal-1.0.6-py2.py3-none-any.whl\n",
            "Requirement already satisfied: sqlalchemy>=1.3.2 in /usr/local/lib/python3.7/dist-packages (from dataset) (1.4.18)\n",
            "Collecting python-editor>=0.3\n",
            "  Downloading https://files.pythonhosted.org/packages/c6/d3/201fc3abe391bbae6606e6f1d598c15d367033332bd54352b12f35513717/python_editor-1.0.4-py3-none-any.whl\n",
            "Requirement already satisfied: python-dateutil in /usr/local/lib/python3.7/dist-packages (from alembic>=0.6.2->dataset) (2.8.1)\n",
            "Collecting Mako\n",
            "\u001b[?25l  Downloading https://files.pythonhosted.org/packages/f3/54/dbc07fbb20865d3b78fdb7cf7fa713e2cba4f87f71100074ef2dc9f9d1f7/Mako-1.1.4-py2.py3-none-any.whl (75kB)\n",
            "\u001b[K     |████████████████████████████████| 81kB 9.0MB/s \n",
            "\u001b[?25hRequirement already satisfied: importlib-metadata; python_version < \"3.8\" in /usr/local/lib/python3.7/dist-packages (from sqlalchemy>=1.3.2->dataset) (4.5.0)\n",
            "Requirement already satisfied: greenlet!=0.4.17; python_version >= \"3\" in /usr/local/lib/python3.7/dist-packages (from sqlalchemy>=1.3.2->dataset) (1.1.0)\n",
            "Requirement already satisfied: six>=1.5 in /usr/local/lib/python3.7/dist-packages (from python-dateutil->alembic>=0.6.2->dataset) (1.15.0)\n",
            "Requirement already satisfied: MarkupSafe>=0.9.2 in /usr/local/lib/python3.7/dist-packages (from Mako->alembic>=0.6.2->dataset) (2.0.1)\n",
            "Requirement already satisfied: typing-extensions>=3.6.4; python_version < \"3.8\" in /usr/local/lib/python3.7/dist-packages (from importlib-metadata; python_version < \"3.8\"->sqlalchemy>=1.3.2->dataset) (3.7.4.3)\n",
            "Requirement already satisfied: zipp>=0.5 in /usr/local/lib/python3.7/dist-packages (from importlib-metadata; python_version < \"3.8\"->sqlalchemy>=1.3.2->dataset) (3.4.1)\n",
            "Installing collected packages: python-editor, Mako, alembic, banal, dataset\n",
            "Successfully installed Mako-1.1.4 alembic-1.6.5 banal-1.0.6 dataset-1.5.0 python-editor-1.0.4\n"
          ],
          "name": "stdout"
        }
      ]
    },
    {
      "cell_type": "code",
      "metadata": {
        "colab": {
          "base_uri": "https://localhost:8080/"
        },
        "id": "t4WbxvFQqwdg",
        "outputId": "e98234a0-b90a-409c-90a7-f2c4e95452a6"
      },
      "source": [
        "from flask import Flask, jsonify, url_for, make_response, request\n",
        "from flask_ngrok import run_with_ngrok\n",
        "import dataset\n",
        "\n",
        "app = Flask(__name__)\n",
        "run_with_ngrok(app) \n",
        "\n",
        "jogos = [\n",
        "         {   \n",
        "          \"id\": 1,\n",
        "          \"plataforma\": \"PS4\",\n",
        "          \"nome\": \"GTA V\",\n",
        "          \"preco\": 129.90,\n",
        "          \"imagem_url\": \"http://s.glbimg.com/po/tt/f/original/2013/04/02/gta5-capa-rockstar_.jpg\"\n",
        "          },\n",
        "         {   \n",
        "          \"id\": 2,\n",
        "          \"plataforma\": \"PS4\",\n",
        "          \"nome\": \"Call of Duty: Modern Warfare II\",\n",
        "          \"preco\": 229.90,\n",
        "          \"imagem_url\": \"https://i0.wp.com/www.thegameflix.com/wp-content/uploads/2020/05/codmw2remastered.jpg\"\n",
        "          },\n",
        "         {   \n",
        "          \"id\": 3,\n",
        "          \"plataforma\": \"PS4\",\n",
        "          \"nome\": \"Call of Duty: WW2\",\n",
        "          \"preco\": 289.90,\n",
        "          \"imagem_url\": \"https://images-americanas.b2w.io/produtos/01/00/item/132649/7/132649709_1GG.jpg\"\n",
        "          },\n",
        "         ]\n",
        "\n",
        "lista_usuarios = [\n",
        "            {\"id\": 1, \"nome\": \"João\", \"saldo\": 3600.00, \"compras_recentes\": [jogos[0], jogos[1]]},\n",
        "            {\"id\": 2, \"nome\": \"Paulo\", \"saldo\": 600.00, \"compras_recentes\": []},\n",
        "            {\"id\": 3, \"nome\": \"Francisco\", \"saldo\": 18000.00, \"compras_recentes\": []},\n",
        "]\n",
        "\n",
        "@app.route(\"/\")\n",
        "def home():\n",
        "  html = \"\"\"\n",
        "  <html><body><h1>Bem-vindo ao GameMarket API</h1><br><a href=\"{}\">Acessar API - Listar</a>\n",
        "  \"\"\".format(url_for('listar_jogos'))\n",
        "  return html, 200\n",
        "\n",
        "@app.route(\"/jogos/api/v1/lista/add\", methods=['POST'])\n",
        "def add_jogos():\n",
        "  if request.method == \"POST\":\n",
        "    print(jsonify({'dados': request.data}))\n",
        "    # jogos.append({\n",
        "    #     \"id\": len(jogos)+1,\n",
        "    #     \"plataforma\": request.json[0]['plataforma'],\n",
        "    #     \"nome\": request.json[0]['nome'],\n",
        "    #     \"preco\": request.json[0]['preco'],\n",
        "    #     \"imagem_url\": request.json[0]['imagem_url']})\n",
        "    return jsonify({'lista': jogos})\n",
        "    \n",
        "@app.route(\"/jogos/api/v1/lista\", methods=['GET'])\n",
        "@app.route('/jogos/api/v1/lista/<int:id>', methods=['GET'])\n",
        "def listar_jogos(id=None):\n",
        "  if id!=None:\n",
        "    return jsonify({'lista': jogos[id-1]})\n",
        "  else:\n",
        "    return jsonify({'lista': jogos, 'usuarios': lista_usuarios}), 200\n",
        "\n",
        "@app.errorhandler(404)\n",
        "def not_found(error):\n",
        "  return make_response(jsonify({'error': 'URL não encontrada!'}), 404)\n",
        "\n",
        "app.run()"
      ],
      "execution_count": null,
      "outputs": [
        {
          "output_type": "stream",
          "text": [
            " * Serving Flask app \"__main__\" (lazy loading)\n",
            " * Environment: production\n",
            "\u001b[31m   WARNING: This is a development server. Do not use it in a production deployment.\u001b[0m\n",
            "\u001b[2m   Use a production WSGI server instead.\u001b[0m\n",
            " * Debug mode: off\n"
          ],
          "name": "stdout"
        },
        {
          "output_type": "stream",
          "text": [
            " * Running on http://127.0.0.1:5000/ (Press CTRL+C to quit)\n"
          ],
          "name": "stderr"
        },
        {
          "output_type": "stream",
          "text": [
            " * Running on http://f9250200f3a2.ngrok.io\n",
            " * Traffic stats available on http://127.0.0.1:4040\n"
          ],
          "name": "stdout"
        },
        {
          "output_type": "stream",
          "text": [
            "[2021-06-25 02:57:25,047] ERROR in app: Exception on /jogos/api/v1/lista/add [POST]\n",
            "Traceback (most recent call last):\n",
            "  File \"/usr/local/lib/python3.7/dist-packages/flask/app.py\", line 2447, in wsgi_app\n",
            "    response = self.full_dispatch_request()\n",
            "  File \"/usr/local/lib/python3.7/dist-packages/flask/app.py\", line 1952, in full_dispatch_request\n",
            "    rv = self.handle_user_exception(e)\n",
            "  File \"/usr/local/lib/python3.7/dist-packages/flask/app.py\", line 1821, in handle_user_exception\n",
            "    reraise(exc_type, exc_value, tb)\n",
            "  File \"/usr/local/lib/python3.7/dist-packages/flask/_compat.py\", line 39, in reraise\n",
            "    raise value\n",
            "  File \"/usr/local/lib/python3.7/dist-packages/flask/app.py\", line 1950, in full_dispatch_request\n",
            "    rv = self.dispatch_request()\n",
            "  File \"/usr/local/lib/python3.7/dist-packages/flask/app.py\", line 1936, in dispatch_request\n",
            "    return self.view_functions[rule.endpoint](**req.view_args)\n",
            "  File \"<ipython-input-23-087adfe19465>\", line 48, in add_jogos\n",
            "    print(jsonify({'dados': request.data}))\n",
            "  File \"/usr/local/lib/python3.7/dist-packages/flask/json/__init__.py\", line 370, in jsonify\n",
            "    dumps(data, indent=indent, separators=separators) + \"\\n\",\n",
            "  File \"/usr/local/lib/python3.7/dist-packages/flask/json/__init__.py\", line 211, in dumps\n",
            "    rv = _json.dumps(obj, **kwargs)\n",
            "  File \"/usr/lib/python3.7/json/__init__.py\", line 238, in dumps\n",
            "    **kw).encode(obj)\n",
            "  File \"/usr/lib/python3.7/json/encoder.py\", line 199, in encode\n",
            "    chunks = self.iterencode(o, _one_shot=True)\n",
            "  File \"/usr/lib/python3.7/json/encoder.py\", line 257, in iterencode\n",
            "    return _iterencode(o, 0)\n",
            "  File \"/usr/local/lib/python3.7/dist-packages/flask/json/__init__.py\", line 100, in default\n",
            "    return _json.JSONEncoder.default(self, o)\n",
            "  File \"/usr/lib/python3.7/json/encoder.py\", line 179, in default\n",
            "    raise TypeError(f'Object of type {o.__class__.__name__} '\n",
            "TypeError: Object of type bytes is not JSON serializable\n",
            "127.0.0.1 - - [25/Jun/2021 02:57:25] \"\u001b[35m\u001b[1mPOST /jogos/api/v1/lista/add HTTP/1.1\u001b[0m\" 500 -\n"
          ],
          "name": "stderr"
        }
      ]
    }
  ]
}